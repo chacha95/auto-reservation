{
 "cells": [
  {
   "cell_type": "code",
   "execution_count": 51,
   "metadata": {},
   "outputs": [
    {
     "ename": "StaleElementReferenceException",
     "evalue": "Message: stale element reference: stale element not found\n  (Session info: chrome=114.0.5735.133); For documentation on this error, please visit: https://www.selenium.dev/documentation/webdriver/troubleshooting/errors#stale-element-reference-exception\nStacktrace:\n0   chromedriver                        0x0000000102c93f48 chromedriver + 4226888\n1   chromedriver                        0x0000000102c8c4f4 chromedriver + 4195572\n2   chromedriver                        0x00000001028d0d68 chromedriver + 281960\n3   chromedriver                        0x00000001028d56b0 chromedriver + 300720\n4   chromedriver                        0x00000001028d6fe4 chromedriver + 307172\n5   chromedriver                        0x00000001028d70d4 chromedriver + 307412\n6   chromedriver                        0x000000010290db48 chromedriver + 531272\n7   chromedriver                        0x000000010290d038 chromedriver + 528440\n8   chromedriver                        0x0000000102901eec chromedriver + 483052\n9   chromedriver                        0x0000000102901734 chromedriver + 481076\n10  chromedriver                        0x0000000102942c58 chromedriver + 748632\n11  chromedriver                        0x00000001028fff1c chromedriver + 474908\n12  chromedriver                        0x0000000102900ef4 chromedriver + 478964\n13  chromedriver                        0x0000000102c5559c chromedriver + 3970460\n14  chromedriver                        0x0000000102c596f0 chromedriver + 3987184\n15  chromedriver                        0x0000000102c5f5b4 chromedriver + 4011444\n16  chromedriver                        0x0000000102c5a2fc chromedriver + 3990268\n17  chromedriver                        0x0000000102c321c0 chromedriver + 3826112\n18  chromedriver                        0x0000000102c76088 chromedriver + 4104328\n19  chromedriver                        0x0000000102c761e0 chromedriver + 4104672\n20  chromedriver                        0x0000000102c85f28 chromedriver + 4169512\n21  libsystem_pthread.dylib             0x000000018caa9240 _pthread_start + 148\n22  libsystem_pthread.dylib             0x000000018caa4024 thread_start + 8\n",
     "output_type": "error",
     "traceback": [
      "\u001b[0;31m---------------------------------------------------------------------------\u001b[0m",
      "\u001b[0;31mStaleElementReferenceException\u001b[0m            Traceback (most recent call last)",
      "Cell \u001b[0;32mIn[51], line 35\u001b[0m\n\u001b[1;32m     28\u001b[0m calender_button\u001b[39m.\u001b[39mclick()\n\u001b[1;32m     30\u001b[0m theme_button \u001b[39m=\u001b[39m wait\u001b[39m.\u001b[39muntil(\n\u001b[1;32m     31\u001b[0m     EC\u001b[39m.\u001b[39melement_to_be_clickable(\n\u001b[1;32m     32\u001b[0m         (By\u001b[39m.\u001b[39mXPATH, \u001b[39m\"\u001b[39m\u001b[39m/html/body/div[3]/div/div/div/div/div[4]/dl[3]/dd/div/ul/a[2]/li\u001b[39m\u001b[39m\"\u001b[39m)\n\u001b[1;32m     33\u001b[0m     )\n\u001b[1;32m     34\u001b[0m )\n\u001b[0;32m---> 35\u001b[0m theme_button\u001b[39m.\u001b[39;49mclick()\n\u001b[1;32m     37\u001b[0m \u001b[39m# driver.quit()\u001b[39;00m\n",
      "File \u001b[0;32m~/workspace/auto-reservation/.venv/lib/python3.9/site-packages/selenium/webdriver/remote/webelement.py:94\u001b[0m, in \u001b[0;36mWebElement.click\u001b[0;34m(self)\u001b[0m\n\u001b[1;32m     92\u001b[0m \u001b[39mdef\u001b[39;00m \u001b[39mclick\u001b[39m(\u001b[39mself\u001b[39m) \u001b[39m-\u001b[39m\u001b[39m>\u001b[39m \u001b[39mNone\u001b[39;00m:\n\u001b[1;32m     93\u001b[0m \u001b[39m    \u001b[39m\u001b[39m\"\"\"Clicks the element.\"\"\"\u001b[39;00m\n\u001b[0;32m---> 94\u001b[0m     \u001b[39mself\u001b[39;49m\u001b[39m.\u001b[39;49m_execute(Command\u001b[39m.\u001b[39;49mCLICK_ELEMENT)\n",
      "File \u001b[0;32m~/workspace/auto-reservation/.venv/lib/python3.9/site-packages/selenium/webdriver/remote/webelement.py:395\u001b[0m, in \u001b[0;36mWebElement._execute\u001b[0;34m(self, command, params)\u001b[0m\n\u001b[1;32m    393\u001b[0m     params \u001b[39m=\u001b[39m {}\n\u001b[1;32m    394\u001b[0m params[\u001b[39m\"\u001b[39m\u001b[39mid\u001b[39m\u001b[39m\"\u001b[39m] \u001b[39m=\u001b[39m \u001b[39mself\u001b[39m\u001b[39m.\u001b[39m_id\n\u001b[0;32m--> 395\u001b[0m \u001b[39mreturn\u001b[39;00m \u001b[39mself\u001b[39;49m\u001b[39m.\u001b[39;49m_parent\u001b[39m.\u001b[39;49mexecute(command, params)\n",
      "File \u001b[0;32m~/workspace/auto-reservation/.venv/lib/python3.9/site-packages/selenium/webdriver/remote/webdriver.py:346\u001b[0m, in \u001b[0;36mWebDriver.execute\u001b[0;34m(self, driver_command, params)\u001b[0m\n\u001b[1;32m    344\u001b[0m response \u001b[39m=\u001b[39m \u001b[39mself\u001b[39m\u001b[39m.\u001b[39mcommand_executor\u001b[39m.\u001b[39mexecute(driver_command, params)\n\u001b[1;32m    345\u001b[0m \u001b[39mif\u001b[39;00m response:\n\u001b[0;32m--> 346\u001b[0m     \u001b[39mself\u001b[39;49m\u001b[39m.\u001b[39;49merror_handler\u001b[39m.\u001b[39;49mcheck_response(response)\n\u001b[1;32m    347\u001b[0m     response[\u001b[39m\"\u001b[39m\u001b[39mvalue\u001b[39m\u001b[39m\"\u001b[39m] \u001b[39m=\u001b[39m \u001b[39mself\u001b[39m\u001b[39m.\u001b[39m_unwrap_value(response\u001b[39m.\u001b[39mget(\u001b[39m\"\u001b[39m\u001b[39mvalue\u001b[39m\u001b[39m\"\u001b[39m, \u001b[39mNone\u001b[39;00m))\n\u001b[1;32m    348\u001b[0m     \u001b[39mreturn\u001b[39;00m response\n",
      "File \u001b[0;32m~/workspace/auto-reservation/.venv/lib/python3.9/site-packages/selenium/webdriver/remote/errorhandler.py:245\u001b[0m, in \u001b[0;36mErrorHandler.check_response\u001b[0;34m(self, response)\u001b[0m\n\u001b[1;32m    243\u001b[0m         alert_text \u001b[39m=\u001b[39m value[\u001b[39m\"\u001b[39m\u001b[39malert\u001b[39m\u001b[39m\"\u001b[39m]\u001b[39m.\u001b[39mget(\u001b[39m\"\u001b[39m\u001b[39mtext\u001b[39m\u001b[39m\"\u001b[39m)\n\u001b[1;32m    244\u001b[0m     \u001b[39mraise\u001b[39;00m exception_class(message, screen, stacktrace, alert_text)  \u001b[39m# type: ignore[call-arg]  # mypy is not smart enough here\u001b[39;00m\n\u001b[0;32m--> 245\u001b[0m \u001b[39mraise\u001b[39;00m exception_class(message, screen, stacktrace)\n",
      "\u001b[0;31mStaleElementReferenceException\u001b[0m: Message: stale element reference: stale element not found\n  (Session info: chrome=114.0.5735.133); For documentation on this error, please visit: https://www.selenium.dev/documentation/webdriver/troubleshooting/errors#stale-element-reference-exception\nStacktrace:\n0   chromedriver                        0x0000000102c93f48 chromedriver + 4226888\n1   chromedriver                        0x0000000102c8c4f4 chromedriver + 4195572\n2   chromedriver                        0x00000001028d0d68 chromedriver + 281960\n3   chromedriver                        0x00000001028d56b0 chromedriver + 300720\n4   chromedriver                        0x00000001028d6fe4 chromedriver + 307172\n5   chromedriver                        0x00000001028d70d4 chromedriver + 307412\n6   chromedriver                        0x000000010290db48 chromedriver + 531272\n7   chromedriver                        0x000000010290d038 chromedriver + 528440\n8   chromedriver                        0x0000000102901eec chromedriver + 483052\n9   chromedriver                        0x0000000102901734 chromedriver + 481076\n10  chromedriver                        0x0000000102942c58 chromedriver + 748632\n11  chromedriver                        0x00000001028fff1c chromedriver + 474908\n12  chromedriver                        0x0000000102900ef4 chromedriver + 478964\n13  chromedriver                        0x0000000102c5559c chromedriver + 3970460\n14  chromedriver                        0x0000000102c596f0 chromedriver + 3987184\n15  chromedriver                        0x0000000102c5f5b4 chromedriver + 4011444\n16  chromedriver                        0x0000000102c5a2fc chromedriver + 3990268\n17  chromedriver                        0x0000000102c321c0 chromedriver + 3826112\n18  chromedriver                        0x0000000102c76088 chromedriver + 4104328\n19  chromedriver                        0x0000000102c761e0 chromedriver + 4104672\n20  chromedriver                        0x0000000102c85f28 chromedriver + 4169512\n21  libsystem_pthread.dylib             0x000000018caa9240 _pthread_start + 148\n22  libsystem_pthread.dylib             0x000000018caa4024 thread_start + 8\n"
     ]
    }
   ],
   "source": [
    "from selenium import webdriver\n",
    "from selenium.webdriver.common.by import By\n",
    "from selenium.webdriver.support import expected_conditions as EC\n",
    "from selenium.webdriver.support.ui import WebDriverWait\n",
    "\n",
    "driver = webdriver.Chrome()\n",
    "url = \"https://www.keyescape.co.kr/web/home.php?go=rev.make\"\n",
    "driver.get(url)\n",
    "\n",
    "wait = WebDriverWait(driver, 20)\n",
    "\n",
    "memory_company_button = wait.until(\n",
    "    EC.element_to_be_clickable(\n",
    "        (By.XPATH, \"//a[contains(@href, 'javascript:fun_zizum_select')]/li[text()='메모리컴퍼니']\")\n",
    "    )\n",
    ")\n",
    "memory_company_button.click()\n",
    "\n",
    "# select day\n",
    "\n",
    "tr_number = 6\n",
    "td_number = 4\n",
    "calender_button = wait.until(\n",
    "    EC.element_to_be_clickable(\n",
    "        (By.XPATH, f\"//*[@id='calendar_data']/table/tbody/tr[{tr_number}]/td[{td_number}]/a\")\n",
    "    )\n",
    ")\n",
    "calender_button.click()\n",
    "\n",
    "theme_button = wait.until(\n",
    "    EC.element_to_be_clickable(\n",
    "        (By.XPATH, \"/html/body/div[3]/div/div/div/div/div[4]/dl[3]/dd/div/ul/a[2]/li\")\n",
    "    )\n",
    ")\n",
    "theme_button.click()\n",
    "\n",
    "last_button = wait.until(\n",
    "    EC.element_to_be_clickable(\n",
    "        (By.XPATH, \"//*[@id='theme_time_data']/li[9]\")\n",
    "    )\n",
    ")\n",
    "last_button.click()\n",
    "\n",
    "# driver.quit()"
   ]
  },
  {
   "cell_type": "code",
   "execution_count": null,
   "metadata": {},
   "outputs": [],
   "source": []
  }
 ],
 "metadata": {
  "kernelspec": {
   "display_name": ".venv",
   "language": "python",
   "name": "python3"
  },
  "language_info": {
   "codemirror_mode": {
    "name": "ipython",
    "version": 3
   },
   "file_extension": ".py",
   "mimetype": "text/x-python",
   "name": "python",
   "nbconvert_exporter": "python",
   "pygments_lexer": "ipython3",
   "version": "3.9.14"
  },
  "orig_nbformat": 4
 },
 "nbformat": 4,
 "nbformat_minor": 2
}
