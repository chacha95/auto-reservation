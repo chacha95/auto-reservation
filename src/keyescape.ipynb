{
 "cells": [
  {
   "cell_type": "code",
   "execution_count": 5,
   "metadata": {},
   "outputs": [],
   "source": [
    "# 예약 사이트\n",
    "url = 'https://www.keyescape.co.kr/web/home.php?go=rev.make'\n",
    "\n",
    "# 지점 정보\n",
    "branch_script = {\n",
    "    'LOG_IN_2': 'javascript:fun_zizum_select(\"20\",\"0\",\"\")',\n",
    "    'LOG_IN_1': 'javascript:fun_zizum_select(\"19\",\"1\",\"\")',\n",
    "    '메모리컴퍼니': 'javascript:fun_zizum_select(\"18\",\"2\",\"\")',\n",
    "    '우주라이크': 'javascript:fun_zizum_select(\"16\",\"3\",\"\")',\n",
    "    '강남_더오름': 'javascript:fun_zizum_select(\"14\",\"4\",\"\")',\n",
    "}\n",
    "\n",
    "# 테마 정보\n",
    "theme_script = {\n",
    "    'back_to_the_scene': 'javascript:fun_theme_select(\"61\",\"2\")',\n",
    "    '네드': 'javascript:fun_theme_select(\"48\",\"0\")',\n",
    "}\n",
    "\n",
    "# 시간 정보 -> theme 별로 전부 다르기 때문에 이거에 따라서 안에 값을 변경이 필요함\n",
    "# branch 클래스 그리고 그 아래에 theme 별로 time script를 가지고 있어야함\n",
    "# (1470, 0) -> ? -> (1479, 1)\n",
    "time_table_script = {\n",
    "    'back_to_the_scene+': 'javascript:fun_theme_time_select(\"1912\",\"0\")',\n",
    "    '네드_11_30': 'javascript:fun_theme_time_select(\"1471\",\"1\")',\n",
    "    '네드_13:00': 'javascript:fun_theme_time_select(\"1472\",\"2\")',\n",
    "    '네드_16_00': 'javascript:fun_theme_time_select(\"1474\",\"4\")',\n",
    "    '네드_17_30': 'javascript:fun_theme_time_select(\"1475\",\"5\")',\n",
    "    '네드_18_00': 'javascript:fun_theme_time_select(\"1476\",\"6\")',\n",
    "    '네드_20_30': 'javascript:fun_theme_time_select(\"1476\",\"7\")',\n",
    "    '네드_22_00': 'javascript:fun_theme_time_select(\"1477\",\"8\")',\n",
    "}"
   ]
  },
  {
   "cell_type": "code",
   "execution_count": 6,
   "metadata": {},
   "outputs": [],
   "source": [
    "from selenium import webdriver\n",
    "from selenium.webdriver.chrome.service import Service\n",
    "from webdriver_manager.chrome import ChromeDriverManager\n",
    "\n",
    "# download chrome driver\n",
    "chrome_options = webdriver.ChromeOptions()\n",
    "driver = webdriver.Chrome(\n",
    "    service=Service(ChromeDriverManager().install()),\n",
    "    options=chrome_options\n",
    ")"
   ]
  },
  {
   "cell_type": "code",
   "execution_count": 7,
   "metadata": {},
   "outputs": [],
   "source": [
    "driver.get(url)"
   ]
  },
  {
   "cell_type": "code",
   "execution_count": 8,
   "metadata": {},
   "outputs": [],
   "source": [
    "branch = '강남_더오름'\n",
    "year, month, day = '2023', '11', '06'\n",
    "theme = '네드'\n",
    "time_table = '네드_11_30'\n",
    "reservation_user_name = '차진혁'\n",
    "phone_number = '01092896091'"
   ]
  },
  {
   "cell_type": "code",
   "execution_count": 9,
   "metadata": {},
   "outputs": [],
   "source": [
    "import time\n",
    "from selenium.webdriver.common.alert import Alert\n",
    "from selenium.common.exceptions import NoAlertPresentException\n",
    "\n",
    "success = False\n",
    "while success is False:\n",
    "    # 지점 선택\n",
    "    driver.execute_script(script=branch_script.get(branch))\n",
    "    # 날짜 선택\n",
    "    calander_script = f'javascript:fun_days_select(\"{year}-{month}-{day}\", {int(day)-1})'\n",
    "    driver.execute_script(script=calander_script)\n",
    "    # 테마 선택\n",
    "    driver.execute_script(script=theme_script.get(theme))\n",
    "    # 시간 선택\n",
    "    driver.execute_script(script=time_table_script.get(time_table))\n",
    "    # 제출\n",
    "    submit_script = 'javascript:fun_submit()'\n",
    "    driver.execute_script(submit_script)\n",
    "    # alert 창이 떴는지 확인하는 로직\n",
    "    try:\n",
    "        alert = driver.switch_to.alert\n",
    "        alert.accept()\n",
    "    except NoAlertPresentException:\n",
    "        success = True"
   ]
  },
  {
   "cell_type": "code",
   "execution_count": 10,
   "metadata": {},
   "outputs": [],
   "source": [
    "# 예약자 명 입력\n",
    "reservation_user_name_xpath = '//input[@class=\"cm_inputType\"]'\n",
    "driver.find_element('xpath', reservation_user_name_xpath).send_keys(reservation_user_name)\n",
    "\n",
    "# 연락처 입력\n",
    "for i in range(2, 4):\n",
    "    phone_number_xpath = f'//input[@name=\"mobile{i}\"]'\n",
    "    if i == 2: n = phone_number[3:7]\n",
    "    elif i == 3: n = phone_number[7:]\n",
    "    driver.find_element('xpath', phone_number_xpath).send_keys(n)\n",
    "\n",
    "# 동의함 버튼 누르기\n",
    "agree_xpath = '//input[@name=\"ck_agree\"]'\n",
    "driver.find_element('xpath', agree_xpath).click()\n",
    "\n",
    "# 이후에 수동으로 유저가 예약하기 버튼을 계속 눌러줘야함!!"
   ]
  }
 ],
 "metadata": {
  "kernelspec": {
   "display_name": ".venv",
   "language": "python",
   "name": "python3"
  },
  "language_info": {
   "codemirror_mode": {
    "name": "ipython",
    "version": 3
   },
   "file_extension": ".py",
   "mimetype": "text/x-python",
   "name": "python",
   "nbconvert_exporter": "python",
   "pygments_lexer": "ipython3",
   "version": "3.12.0"
  },
  "orig_nbformat": 4
 },
 "nbformat": 4,
 "nbformat_minor": 2
}
