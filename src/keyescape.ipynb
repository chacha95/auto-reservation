{
 "cells": [
  {
   "cell_type": "code",
   "execution_count": 13,
   "metadata": {},
   "outputs": [],
   "source": [
    "from selenium.webdriver.support import expected_conditions as EC\n",
    "from selenium.webdriver.support.ui import WebDriverWait\n",
    "from selenium.webdriver.common.by import By\n",
    "from selenium.common.exceptions import NoSuchElementException, StaleElementReferenceException\n",
    "\n",
    "import time\n",
    "\n",
    "\n",
    "def click_with_retry(wait, x_path, max_retry=100, sleep_interval=0.1):\n",
    "    retry_count = 0\n",
    "    clicked = False\n",
    "    while not clicked and retry_count < max_retry:\n",
    "        try:\n",
    "            theme_button = wait.until(\n",
    "                EC.element_to_be_clickable(\n",
    "                    (By.XPATH, x_path)\n",
    "                )\n",
    "            )\n",
    "            theme_button.click()\n",
    "            clicked = True\n",
    "        except StaleElementReferenceException as e:\n",
    "            print(\"클릭할 엘리먼트를 찾을 수 없습니다.\")\n",
    "            retry_count += 1\n",
    "            time.sleep(sleep_interval)  # 잠시 대기 후 다음 시도"
   ]
  },
  {
   "cell_type": "code",
   "execution_count": 14,
   "metadata": {},
   "outputs": [
    {
     "name": "stdout",
     "output_type": "stream",
     "text": [
      "클릭할 엘리먼트를 찾을 수 없습니다.\n"
     ]
    }
   ],
   "source": [
    "from selenium import webdriver\n",
    "\n",
    "driver = webdriver.Chrome()\n",
    "url = \"https://www.keyescape.co.kr/web/home.php?go=rev.make\"\n",
    "driver.get(url)\n",
    "\n",
    "wait = WebDriverWait(driver, 20)\n",
    "retry = 10\n",
    "\n",
    "# LOG_IN 2\n",
    "# LOG_IN 1\n",
    "# 메모리컴퍼니\n",
    "# 우주라이크\n",
    "# 강남 더오름\n",
    "# ...\n",
    "location = \"메모리컴퍼니\"\n",
    "click_with_retry(\n",
    "    wait,\n",
    "    f\"//a[contains(@href, 'javascript:fun_zizum_select')]/li[text()='{location}']\"\n",
    ")\n",
    "\n",
    "# select day\n",
    "tr_number = 6\n",
    "td_number = 4\n",
    "click_with_retry(\n",
    "    wait,\n",
    "    f\"//*[@id='calendar_data']/table/tbody/tr[{tr_number}]/td[{td_number}]/a\"\n",
    ")\n",
    "\n",
    "# select theme\n",
    "click_with_retry(\n",
    "    wait,\n",
    "    f\"/html/body/div[3]/div/div/div/div/div[4]/dl[3]/dd/div/ul/a[2]/li\"\n",
    ")\n",
    "\n",
    "# select time\n",
    "click_with_retry(\n",
    "    wait,\n",
    "    \"//*[@id='theme_time_data']/li[9]\"\n",
    ")"
   ]
  },
  {
   "cell_type": "code",
   "execution_count": null,
   "metadata": {},
   "outputs": [],
   "source": []
  },
  {
   "cell_type": "code",
   "execution_count": null,
   "metadata": {},
   "outputs": [],
   "source": []
  }
 ],
 "metadata": {
  "kernelspec": {
   "display_name": ".venv",
   "language": "python",
   "name": "python3"
  },
  "language_info": {
   "codemirror_mode": {
    "name": "ipython",
    "version": 3
   },
   "file_extension": ".py",
   "mimetype": "text/x-python",
   "name": "python",
   "nbconvert_exporter": "python",
   "pygments_lexer": "ipython3",
   "version": "3.9.14"
  },
  "orig_nbformat": 4
 },
 "nbformat": 4,
 "nbformat_minor": 2
}
