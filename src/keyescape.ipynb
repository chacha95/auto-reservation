{
 "cells": [
  {
   "cell_type": "code",
   "execution_count": 14,
   "metadata": {},
   "outputs": [],
   "source": [
    "# 예약 사이트\n",
    "url = 'https://www.keyescape.co.kr/web/home.php?go=rev.make'\n",
    "\n",
    "# 지점 정보\n",
    "branch_script = {\n",
    "    'LOG_IN 2': 'javascript:fun_zizum_select(\"20\",\"0\",\"\")',\n",
    "    'LOG_IN 1': 'javascript:fun_zizum_select(\"19\",\"1\",\"\")',\n",
    "    '메모리컴퍼니': 'javascript:fun_zizum_select(\"18\",\"2\",\"\")',\n",
    "    '우주라이크': 'javascript:fun_zizum_select(\"16\",\"3\",\"\")',\n",
    "    '강남 더오름': 'javascript:fun_zizum_select(\"14\",\"4\",\"\")',\n",
    "}\n",
    "\n",
    "# 테마 정보\n",
    "theme_script = {\n",
    "    'BACK TO THE SCENE+': 'javascript:fun_theme_select(\"61\",\"2\")',\n",
    "}\n",
    "\n",
    "# 시간 정보\n",
    "time_script = {\n",
    "    'd': 'javascript:fun_theme_time_select(\"1912\",\"0\")',\n",
    "}"
   ]
  },
  {
   "cell_type": "code",
   "execution_count": 2,
   "metadata": {},
   "outputs": [],
   "source": [
    "from selenium import webdriver\n",
    "from selenium.webdriver.chrome.service import Service\n",
    "from webdriver_manager.chrome import ChromeDriverManager\n",
    "\n",
    "# download chrome driver\n",
    "chrome_options = webdriver.ChromeOptions()\n",
    "driver = webdriver.Chrome(\n",
    "    service=Service(ChromeDriverManager().install()),\n",
    "    options=chrome_options\n",
    ")"
   ]
  },
  {
   "cell_type": "code",
   "execution_count": 9,
   "metadata": {},
   "outputs": [],
   "source": [
    "driver.get(url)"
   ]
  },
  {
   "cell_type": "code",
   "execution_count": 15,
   "metadata": {},
   "outputs": [],
   "source": [
    "# 지점 선택\n",
    "driver.execute_script(script=branch_script.get('LOG_IN 2'))\n",
    "\n",
    "# 날짜 선택\n",
    "year = '2023'\n",
    "month = '11'\n",
    "day = '02'\n",
    "calander_script = f'javascript:fun_days_select(\"{year}-{month}-{day}\", {int(day)-1})'\n",
    "driver.execute_script(script=calander_script)\n",
    "\n",
    "# 테마 선택\n",
    "driver.execute_script(script=theme_script.get('BACK TO THE SCENE+'))\n",
    "\n",
    "# 시간 선택\n",
    "driver.execute_script(script=time_script.get('d'))\n",
    "\n",
    "# 제출\n",
    "submit_script = 'javascript:fun_submit()'\n",
    "driver.execute_script(submit_script)"
   ]
  },
  {
   "cell_type": "code",
   "execution_count": 5,
   "metadata": {},
   "outputs": [],
   "source": [
    "# 예약자 명 입력\n",
    "reservation_user_name_xpath = '//input[@class=\"cm_inputType\"]'\n",
    "reservation_user_name = '차진혁'\n",
    "driver.find_element('xpath', reservation_user_name_xpath).send_keys(reservation_user_name)\n",
    "\n",
    "# 연락처 입력\n",
    "phone_number = '01092896091'\n",
    "for i in range(2, 4):\n",
    "    phone_number_xpath = f'//input[@name=\"mobile{i}\"]'\n",
    "    if i == 2: n = phone_number[3:7]\n",
    "    elif i == 3: n = phone_number[7:]\n",
    "    driver.find_element('xpath', phone_number_xpath).send_keys(n)\n",
    "\n",
    "# 동의함 버튼 누르기\n",
    "agree_xpath = '//input[@name=\"ck_agree\"]'\n",
    "driver.find_element('xpath', agree_xpath).click()\n",
    "\n",
    "# 이후에 수동으로 유저가 예약하기 버튼을 계속 눌러줘야함!!"
   ]
  },
  {
   "cell_type": "code",
   "execution_count": 71,
   "metadata": {},
   "outputs": [
    {
     "ename": "AttributeError",
     "evalue": "'NoneType' object has no attribute 'is_displayed'",
     "output_type": "error",
     "traceback": [
      "\u001b[0;31m---------------------------------------------------------------------------\u001b[0m",
      "\u001b[0;31mAttributeError\u001b[0m                            Traceback (most recent call last)",
      "\u001b[1;32m/Users/chajinhyeog/workspace/auto-reservation/src/keyescape.ipynb 셀 6\u001b[0m line \u001b[0;36m4\n\u001b[1;32m     <a href='vscode-notebook-cell:/Users/chajinhyeog/workspace/auto-reservation/src/keyescape.ipynb#W0sZmlsZQ%3D%3D?line=36'>37</a>\u001b[0m \u001b[39m# LOG_IN 2\u001b[39;00m\n\u001b[1;32m     <a href='vscode-notebook-cell:/Users/chajinhyeog/workspace/auto-reservation/src/keyescape.ipynb#W0sZmlsZQ%3D%3D?line=37'>38</a>\u001b[0m \u001b[39m# LOG_IN 1\u001b[39;00m\n\u001b[1;32m     <a href='vscode-notebook-cell:/Users/chajinhyeog/workspace/auto-reservation/src/keyescape.ipynb#W0sZmlsZQ%3D%3D?line=38'>39</a>\u001b[0m \u001b[39m# 메모리컴퍼니\u001b[39;00m\n\u001b[1;32m     <a href='vscode-notebook-cell:/Users/chajinhyeog/workspace/auto-reservation/src/keyescape.ipynb#W0sZmlsZQ%3D%3D?line=39'>40</a>\u001b[0m \u001b[39m# 우주라이크\u001b[39;00m\n\u001b[1;32m     <a href='vscode-notebook-cell:/Users/chajinhyeog/workspace/auto-reservation/src/keyescape.ipynb#W0sZmlsZQ%3D%3D?line=40'>41</a>\u001b[0m \u001b[39m# 강남 더오름\u001b[39;00m\n\u001b[1;32m     <a href='vscode-notebook-cell:/Users/chajinhyeog/workspace/auto-reservation/src/keyescape.ipynb#W0sZmlsZQ%3D%3D?line=41'>42</a>\u001b[0m \u001b[39m# ...\u001b[39;00m\n\u001b[1;32m     <a href='vscode-notebook-cell:/Users/chajinhyeog/workspace/auto-reservation/src/keyescape.ipynb#W0sZmlsZQ%3D%3D?line=42'>43</a>\u001b[0m location \u001b[39m=\u001b[39m \u001b[39m\"\u001b[39m\u001b[39m메모리컴퍼니\u001b[39m\u001b[39m\"\u001b[39m\n\u001b[0;32m---> <a href='vscode-notebook-cell:/Users/chajinhyeog/workspace/auto-reservation/src/keyescape.ipynb#W0sZmlsZQ%3D%3D?line=43'>44</a>\u001b[0m click_with_retry(\n\u001b[1;32m     <a href='vscode-notebook-cell:/Users/chajinhyeog/workspace/auto-reservation/src/keyescape.ipynb#W0sZmlsZQ%3D%3D?line=44'>45</a>\u001b[0m     wait,\n\u001b[1;32m     <a href='vscode-notebook-cell:/Users/chajinhyeog/workspace/auto-reservation/src/keyescape.ipynb#W0sZmlsZQ%3D%3D?line=45'>46</a>\u001b[0m     driver,\n\u001b[1;32m     <a href='vscode-notebook-cell:/Users/chajinhyeog/workspace/auto-reservation/src/keyescape.ipynb#W0sZmlsZQ%3D%3D?line=46'>47</a>\u001b[0m     \u001b[39mf\u001b[39;49m\u001b[39m\"\u001b[39;49m\u001b[39m//a[contains(@href, \u001b[39;49m\u001b[39m'\u001b[39;49m\u001b[39mjavascript:fun_zizum_select\u001b[39;49m\u001b[39m'\u001b[39;49m\u001b[39m)]/li[text()=\u001b[39;49m\u001b[39m'\u001b[39;49m\u001b[39m{\u001b[39;49;00mlocation\u001b[39m}\u001b[39;49;00m\u001b[39m'\u001b[39;49m\u001b[39m]\u001b[39;49m\u001b[39m\"\u001b[39;49m\n\u001b[1;32m     <a href='vscode-notebook-cell:/Users/chajinhyeog/workspace/auto-reservation/src/keyescape.ipynb#W0sZmlsZQ%3D%3D?line=47'>48</a>\u001b[0m )\n\u001b[1;32m     <a href='vscode-notebook-cell:/Users/chajinhyeog/workspace/auto-reservation/src/keyescape.ipynb#W0sZmlsZQ%3D%3D?line=49'>50</a>\u001b[0m \u001b[39m# select day\u001b[39;00m\n\u001b[1;32m     <a href='vscode-notebook-cell:/Users/chajinhyeog/workspace/auto-reservation/src/keyescape.ipynb#W0sZmlsZQ%3D%3D?line=50'>51</a>\u001b[0m tr_number \u001b[39m=\u001b[39m \u001b[39m6\u001b[39m\n",
      "\u001b[1;32m/Users/chajinhyeog/workspace/auto-reservation/src/keyescape.ipynb 셀 6\u001b[0m line \u001b[0;36m1\n\u001b[1;32m     <a href='vscode-notebook-cell:/Users/chajinhyeog/workspace/auto-reservation/src/keyescape.ipynb#W0sZmlsZQ%3D%3D?line=11'>12</a>\u001b[0m \u001b[39mwhile\u001b[39;00m \u001b[39mnot\u001b[39;00m clicked \u001b[39mand\u001b[39;00m retry_count \u001b[39m<\u001b[39m max_retry:\n\u001b[1;32m     <a href='vscode-notebook-cell:/Users/chajinhyeog/workspace/auto-reservation/src/keyescape.ipynb#W0sZmlsZQ%3D%3D?line=12'>13</a>\u001b[0m     \u001b[39mtry\u001b[39;00m:\n\u001b[0;32m---> <a href='vscode-notebook-cell:/Users/chajinhyeog/workspace/auto-reservation/src/keyescape.ipynb#W0sZmlsZQ%3D%3D?line=13'>14</a>\u001b[0m         theme_button \u001b[39m=\u001b[39m wait\u001b[39m.\u001b[39;49muntil(\n\u001b[1;32m     <a href='vscode-notebook-cell:/Users/chajinhyeog/workspace/auto-reservation/src/keyescape.ipynb#W0sZmlsZQ%3D%3D?line=14'>15</a>\u001b[0m             EC\u001b[39m.\u001b[39;49melement_to_be_clickable(\n\u001b[1;32m     <a href='vscode-notebook-cell:/Users/chajinhyeog/workspace/auto-reservation/src/keyescape.ipynb#W0sZmlsZQ%3D%3D?line=15'>16</a>\u001b[0m                 (By\u001b[39m.\u001b[39;49mXPATH, x_path)\n\u001b[1;32m     <a href='vscode-notebook-cell:/Users/chajinhyeog/workspace/auto-reservation/src/keyescape.ipynb#W0sZmlsZQ%3D%3D?line=16'>17</a>\u001b[0m             )\n\u001b[1;32m     <a href='vscode-notebook-cell:/Users/chajinhyeog/workspace/auto-reservation/src/keyescape.ipynb#W0sZmlsZQ%3D%3D?line=17'>18</a>\u001b[0m         )\n\u001b[1;32m     <a href='vscode-notebook-cell:/Users/chajinhyeog/workspace/auto-reservation/src/keyescape.ipynb#W0sZmlsZQ%3D%3D?line=18'>19</a>\u001b[0m         theme_button\u001b[39m.\u001b[39mclick()\n\u001b[1;32m     <a href='vscode-notebook-cell:/Users/chajinhyeog/workspace/auto-reservation/src/keyescape.ipynb#W0sZmlsZQ%3D%3D?line=19'>20</a>\u001b[0m         \u001b[39mif\u001b[39;00m theme_button\u001b[39m.\u001b[39mget_attribute(\u001b[39m\"\u001b[39m\u001b[39mclass\u001b[39m\u001b[39m\"\u001b[39m) \u001b[39m==\u001b[39m \u001b[39m\"\u001b[39m\u001b[39mon\u001b[39m\u001b[39m\"\u001b[39m:\n",
      "File \u001b[0;32m~/workspace/auto-reservation/.venv/lib/python3.12/site-packages/selenium/webdriver/support/wait.py:86\u001b[0m, in \u001b[0;36mWebDriverWait.until\u001b[0;34m(self, method, message)\u001b[0m\n\u001b[1;32m     84\u001b[0m \u001b[39mwhile\u001b[39;00m \u001b[39mTrue\u001b[39;00m:\n\u001b[1;32m     85\u001b[0m     \u001b[39mtry\u001b[39;00m:\n\u001b[0;32m---> 86\u001b[0m         value \u001b[39m=\u001b[39m method(\u001b[39mself\u001b[39;49m\u001b[39m.\u001b[39;49m_driver)\n\u001b[1;32m     87\u001b[0m         \u001b[39mif\u001b[39;00m value:\n\u001b[1;32m     88\u001b[0m             \u001b[39mreturn\u001b[39;00m value\n",
      "File \u001b[0;32m~/workspace/auto-reservation/.venv/lib/python3.12/site-packages/selenium/webdriver/support/expected_conditions.py:355\u001b[0m, in \u001b[0;36melement_to_be_clickable.<locals>._predicate\u001b[0;34m(driver)\u001b[0m\n\u001b[1;32m    353\u001b[0m \u001b[39mif\u001b[39;00m \u001b[39mnot\u001b[39;00m \u001b[39misinstance\u001b[39m(target, WebElement):  \u001b[39m# if given locator instead of WebElement\u001b[39;00m\n\u001b[1;32m    354\u001b[0m     target \u001b[39m=\u001b[39m driver\u001b[39m.\u001b[39mfind_element(\u001b[39m*\u001b[39mtarget)  \u001b[39m# grab element at locator\u001b[39;00m\n\u001b[0;32m--> 355\u001b[0m target \u001b[39m=\u001b[39m visibility_of(target)(driver)\n\u001b[1;32m    356\u001b[0m \u001b[39mif\u001b[39;00m target \u001b[39mand\u001b[39;00m target\u001b[39m.\u001b[39mis_enabled():\n\u001b[1;32m    357\u001b[0m     \u001b[39mreturn\u001b[39;00m target\n",
      "File \u001b[0;32m~/workspace/auto-reservation/.venv/lib/python3.12/site-packages/selenium/webdriver/support/expected_conditions.py:168\u001b[0m, in \u001b[0;36mvisibility_of.<locals>._predicate\u001b[0;34m(_)\u001b[0m\n\u001b[1;32m    167\u001b[0m \u001b[39mdef\u001b[39;00m \u001b[39m_predicate\u001b[39m(_):\n\u001b[0;32m--> 168\u001b[0m     \u001b[39mreturn\u001b[39;00m _element_if_visible(element)\n",
      "File \u001b[0;32m~/workspace/auto-reservation/.venv/lib/python3.12/site-packages/selenium/webdriver/support/expected_conditions.py:174\u001b[0m, in \u001b[0;36m_element_if_visible\u001b[0;34m(element, visibility)\u001b[0m\n\u001b[1;32m    173\u001b[0m \u001b[39mdef\u001b[39;00m \u001b[39m_element_if_visible\u001b[39m(element: WebElement, visibility: \u001b[39mbool\u001b[39m \u001b[39m=\u001b[39m \u001b[39mTrue\u001b[39;00m) \u001b[39m-\u001b[39m\u001b[39m>\u001b[39m Union[WebElement, \u001b[39mbool\u001b[39m]:\n\u001b[0;32m--> 174\u001b[0m     \u001b[39mreturn\u001b[39;00m element \u001b[39mif\u001b[39;00m element\u001b[39m.\u001b[39;49mis_displayed() \u001b[39m==\u001b[39m visibility \u001b[39melse\u001b[39;00m \u001b[39mFalse\u001b[39;00m\n",
      "\u001b[0;31mAttributeError\u001b[0m: 'NoneType' object has no attribute 'is_displayed'"
     ]
    }
   ],
   "source": [
    "from selenium.webdriver.support import expected_conditions as EC\n",
    "from selenium.webdriver.support.ui import WebDriverWait\n",
    "from selenium.webdriver.common.by import By\n",
    "from selenium.common.exceptions import StaleElementReferenceException\n",
    "\n",
    "import time\n",
    "\n",
    "\n",
    "def click_with_retry(wait, driver, x_path, max_retry=2, sleep_interval=0.5):\n",
    "    retry_count = 0\n",
    "    clicked = False\n",
    "    while not clicked and retry_count < max_retry:\n",
    "        try:\n",
    "            theme_button = wait.until(\n",
    "                EC.element_to_be_clickable(\n",
    "                    (By.XPATH, x_path)\n",
    "                )\n",
    "            )\n",
    "            theme_button.click()\n",
    "            if theme_button.get_attribute(\"class\") == \"on\":\n",
    "                clicked = True\n",
    "            else:\n",
    "                driver.refresh()\n",
    "        except StaleElementReferenceException as e:\n",
    "            print(\"클릭할 엘리먼트를 찾을 수 없습니다.\")\n",
    "            retry_count += 1\n",
    "            time.sleep(sleep_interval)  # 잠시 대기 후 다음 시도\n",
    "            driver.refresh()\n",
    "\n",
    "wait = WebDriverWait(driver, 20)"
   ]
  },
  {
   "cell_type": "code",
   "execution_count": null,
   "metadata": {},
   "outputs": [],
   "source": []
  },
  {
   "cell_type": "code",
   "execution_count": null,
   "metadata": {},
   "outputs": [],
   "source": []
  }
 ],
 "metadata": {
  "kernelspec": {
   "display_name": ".venv",
   "language": "python",
   "name": "python3"
  },
  "language_info": {
   "codemirror_mode": {
    "name": "ipython",
    "version": 3
   },
   "file_extension": ".py",
   "mimetype": "text/x-python",
   "name": "python",
   "nbconvert_exporter": "python",
   "pygments_lexer": "ipython3",
   "version": "3.12.0"
  },
  "orig_nbformat": 4
 },
 "nbformat": 4,
 "nbformat_minor": 2
}
