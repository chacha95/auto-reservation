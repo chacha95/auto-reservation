{
 "cells": [
  {
   "cell_type": "code",
   "execution_count": 11,
   "metadata": {},
   "outputs": [],
   "source": [
    "from selenium.webdriver.support import expected_conditions as EC\n",
    "from selenium.webdriver.support.ui import WebDriverWait\n",
    "from selenium.webdriver.common.by import By\n",
    "from selenium.common.exceptions import NoSuchElementException, StaleElementReferenceException\n",
    "\n",
    "import time\n",
    "\n",
    "\n",
    "def click_with_retry(wait, driver, x_path, max_retry=100, sleep_interval=0.1):\n",
    "    retry_count = 0\n",
    "    clicked = False\n",
    "    while not clicked and retry_count < max_retry:\n",
    "        try:\n",
    "            theme_button = wait.until(\n",
    "                EC.element_to_be_clickable(\n",
    "                    (By.XPATH, x_path)\n",
    "                )\n",
    "            )\n",
    "            theme_button.click()\n",
    "            clicked = True\n",
    "        except StaleElementReferenceException as e:\n",
    "            print(\"클릭할 엘리먼트를 찾을 수 없습니다.\")\n",
    "            retry_count += 1"
   ]
  },
  {
   "cell_type": "code",
   "execution_count": 12,
   "metadata": {},
   "outputs": [
    {
     "ename": "TimeoutException",
     "evalue": "Message: \nStacktrace:\n0   chromedriver                        0x00000001004fbf48 chromedriver + 4226888\n1   chromedriver                        0x00000001004f44f4 chromedriver + 4195572\n2   chromedriver                        0x0000000100138d68 chromedriver + 281960\n3   chromedriver                        0x0000000100173fc8 chromedriver + 524232\n4   chromedriver                        0x00000001001aac58 chromedriver + 748632\n5   chromedriver                        0x0000000100167f1c chromedriver + 474908\n6   chromedriver                        0x0000000100168ef4 chromedriver + 478964\n7   chromedriver                        0x00000001004bd59c chromedriver + 3970460\n8   chromedriver                        0x00000001004c16f0 chromedriver + 3987184\n9   chromedriver                        0x00000001004c75b4 chromedriver + 4011444\n10  chromedriver                        0x00000001004c22fc chromedriver + 3990268\n11  chromedriver                        0x000000010049a1c0 chromedriver + 3826112\n12  chromedriver                        0x00000001004de088 chromedriver + 4104328\n13  chromedriver                        0x00000001004de1e0 chromedriver + 4104672\n14  chromedriver                        0x00000001004edf28 chromedriver + 4169512\n15  libsystem_pthread.dylib             0x000000018caa9240 _pthread_start + 148\n16  libsystem_pthread.dylib             0x000000018caa4024 thread_start + 8\n",
     "output_type": "error",
     "traceback": [
      "\u001b[0;31m---------------------------------------------------------------------------\u001b[0m",
      "\u001b[0;31mTimeoutException\u001b[0m                          Traceback (most recent call last)",
      "Cell \u001b[0;32mIn[12], line 12\u001b[0m\n\u001b[1;32m      8\u001b[0m retry \u001b[39m=\u001b[39m \u001b[39m10\u001b[39m\n\u001b[1;32m     10\u001b[0m \u001b[39m# select button\u001b[39;00m\n\u001b[0;32m---> 12\u001b[0m click_with_retry(\n\u001b[1;32m     13\u001b[0m     wait,\n\u001b[1;32m     14\u001b[0m     driver,\n\u001b[1;32m     15\u001b[0m     \u001b[39m\"\u001b[39;49m\u001b[39m/html/body/div[3]/main/div[1]/div[8]/div/div/div/div/div[2]/div/table/tbody/tr/td/div[1]/div/div/div/table/tbody/tr[5]/td[5]/div/div[3]/div[7]/a/div/div/span[1]\u001b[39;49m\u001b[39m\"\u001b[39;49m\n\u001b[1;32m     16\u001b[0m )\n",
      "Cell \u001b[0;32mIn[11], line 14\u001b[0m, in \u001b[0;36mclick_with_retry\u001b[0;34m(wait, driver, x_path, max_retry, sleep_interval)\u001b[0m\n\u001b[1;32m     12\u001b[0m \u001b[39mwhile\u001b[39;00m \u001b[39mnot\u001b[39;00m clicked \u001b[39mand\u001b[39;00m retry_count \u001b[39m<\u001b[39m max_retry:\n\u001b[1;32m     13\u001b[0m     \u001b[39mtry\u001b[39;00m:\n\u001b[0;32m---> 14\u001b[0m         theme_button \u001b[39m=\u001b[39m wait\u001b[39m.\u001b[39;49muntil(\n\u001b[1;32m     15\u001b[0m             EC\u001b[39m.\u001b[39;49melement_to_be_clickable(\n\u001b[1;32m     16\u001b[0m                 (By\u001b[39m.\u001b[39;49mXPATH, x_path)\n\u001b[1;32m     17\u001b[0m             )\n\u001b[1;32m     18\u001b[0m         )\n\u001b[1;32m     19\u001b[0m         theme_button\u001b[39m.\u001b[39mclick()\n\u001b[1;32m     20\u001b[0m         clicked \u001b[39m=\u001b[39m \u001b[39mTrue\u001b[39;00m\n",
      "File \u001b[0;32m~/workspace/auto-reservation/.venv/lib/python3.9/site-packages/selenium/webdriver/support/wait.py:95\u001b[0m, in \u001b[0;36mWebDriverWait.until\u001b[0;34m(self, method, message)\u001b[0m\n\u001b[1;32m     93\u001b[0m     \u001b[39mif\u001b[39;00m time\u001b[39m.\u001b[39mmonotonic() \u001b[39m>\u001b[39m end_time:\n\u001b[1;32m     94\u001b[0m         \u001b[39mbreak\u001b[39;00m\n\u001b[0;32m---> 95\u001b[0m \u001b[39mraise\u001b[39;00m TimeoutException(message, screen, stacktrace)\n",
      "\u001b[0;31mTimeoutException\u001b[0m: Message: \nStacktrace:\n0   chromedriver                        0x00000001004fbf48 chromedriver + 4226888\n1   chromedriver                        0x00000001004f44f4 chromedriver + 4195572\n2   chromedriver                        0x0000000100138d68 chromedriver + 281960\n3   chromedriver                        0x0000000100173fc8 chromedriver + 524232\n4   chromedriver                        0x00000001001aac58 chromedriver + 748632\n5   chromedriver                        0x0000000100167f1c chromedriver + 474908\n6   chromedriver                        0x0000000100168ef4 chromedriver + 478964\n7   chromedriver                        0x00000001004bd59c chromedriver + 3970460\n8   chromedriver                        0x00000001004c16f0 chromedriver + 3987184\n9   chromedriver                        0x00000001004c75b4 chromedriver + 4011444\n10  chromedriver                        0x00000001004c22fc chromedriver + 3990268\n11  chromedriver                        0x000000010049a1c0 chromedriver + 3826112\n12  chromedriver                        0x00000001004de088 chromedriver + 4104328\n13  chromedriver                        0x00000001004de1e0 chromedriver + 4104672\n14  chromedriver                        0x00000001004edf28 chromedriver + 4169512\n15  libsystem_pthread.dylib             0x000000018caa9240 _pthread_start + 148\n16  libsystem_pthread.dylib             0x000000018caa4024 thread_start + 8\n"
     ]
    }
   ],
   "source": [
    "from selenium import webdriver\n",
    "\n",
    "driver = webdriver.Chrome()\n",
    "url = \"https://www.dpsnnn.com/reserve\"\n",
    "driver.get(url)\n",
    "\n",
    "wait = WebDriverWait(driver, 20)\n",
    "retry = 10\n",
    "\n",
    "# select button\n",
    "\n",
    "click_with_retry(\n",
    "    wait,\n",
    "    driver,\n",
    "    \"/html/body/div[3]/main/div[1]/div[8]/div/div/div/div/div[2]/div/table/tbody/tr/td/div[1]/div/div/div/table/tbody/tr[5]/td[5]/div/div[3]/div[7]/a/div/div/span[1]\"\n",
    ")"
   ]
  },
  {
   "cell_type": "code",
   "execution_count": null,
   "metadata": {},
   "outputs": [],
   "source": []
  }
 ],
 "metadata": {
  "kernelspec": {
   "display_name": ".venv",
   "language": "python",
   "name": "python3"
  },
  "language_info": {
   "codemirror_mode": {
    "name": "ipython",
    "version": 3
   },
   "file_extension": ".py",
   "mimetype": "text/x-python",
   "name": "python",
   "nbconvert_exporter": "python",
   "pygments_lexer": "ipython3",
   "version": "3.9.14"
  },
  "orig_nbformat": 4
 },
 "nbformat": 4,
 "nbformat_minor": 2
}
